{
 "cells": [
  {
   "cell_type": "markdown",
   "metadata": {
    "collapsed": false,
    "pycharm": {
     "name": "#%% md\n"
    }
   },
   "source": [
    "<h1> URL Image list to Text </h1>\n",
    "<h2> Requirements </h2>\n",
    "<ul>\n",
    "    <li> Tesseract\n",
    "        <ol>\n",
    "            <li> <a href=\"https://digi.bib.uni-mannheim.de/tesseract/tesseract-ocr-w64-setup-v5.0.0.20211201.exe\">Download Link</a></li>\n",
    "            <li> Add tesseract install folder to path </li>\n",
    "        </ol>\n",
    "    </li>\n",
    "    <li> PyTesseract\n",
    "        <ol>\n",
    "            <li> pip install pytesseract </li>\n",
    "        </ol>\n",
    "    </li>\n",
    "    <li> LangDetect\n",
    "        <ol>\n",
    "            <li> pip install langdetect</li>\n",
    "        </ol>\n",
    "    </li>\n",
    "    <li>Pillow\n",
    "        <ol>\n",
    "            <li>pip install Pillow</li>\n",
    "        </ol>\n",
    "    </li>\n",
    "    <li>Pandas\n",
    "        <ol>\n",
    "            <li>pip install pandas</li>\n",
    "        </ol>\n",
    "    </li>\n",
    "    <li> ISO-639\n",
    "        <ol>\n",
    "            <li>pip install iso-639</li>\n",
    "        </ol>\n",
    "    </li>\n",
    "</ul>"
   ]
  },
  {
   "cell_type": "code",
   "execution_count": 50,
   "metadata": {
    "collapsed": false,
    "pycharm": {
     "name": "#%%\n"
    }
   },
   "outputs": [],
   "source": [
    "import os\n",
    "import pytesseract\n",
    "import requests\n",
    "import pandas as pd\n",
    "from PIL import Image, ImageFilter, ImageEnhance\n",
    "from typing import List\n",
    "from langdetect import detect\n",
    "from iso639 import languages\n",
    "import time\n",
    "from textblob import TextBlob\n",
    "from copy import deepcopy"
   ]
  },
  {
   "cell_type": "code",
   "execution_count": 47,
   "metadata": {
    "collapsed": false,
    "pycharm": {
     "name": "#%%\n"
    }
   },
   "outputs": [],
   "source": [
    "#Defining constants\n",
    "\n",
    "url_filename = \"./images.txt\"\n",
    "csv_filename = \"./data.csv\"\n",
    "\n",
    "def check_csv(filepath : str) -> pd.DataFrame:\n",
    "    if not os.path.isfile(filepath):\n",
    "        pd.DataFrame(columns=[\"Image URL\", \"Raw Text\", \"Language\", \"Polarity\", \"Subjectivity\",\"Lang Code\"]).to_csv(filepath)\n",
    "    return pd.read_csv(filepath).drop(\"Unnamed: 0\", axis=1)\n",
    "\n",
    "def get_urls(filepath : str) -> List[str]:\n",
    "    return [url.strip() for url in open(filepath, \"r\").read().split(\"\\n\")]\n",
    "\n",
    "image_data_df = check_csv(csv_filename)\n",
    "image_urls = get_urls(url_filename)\n",
    "headers = {'User-Agent': 'Mozilla/5.0 (Macintosh; Intel Mac OS X 10_10_1) AppleWebKit/537.36 (KHTML, like Gecko) Chrome/39.0.2171.95 Safari/537.36'}\n"
   ]
  },
  {
   "cell_type": "code",
   "execution_count": 3,
   "metadata": {
    "collapsed": false,
    "pycharm": {
     "name": "#%%\n"
    }
   },
   "outputs": [],
   "source": [
    "def get_text(img : Image) -> str:\n",
    "    img = img.convert('L')\n",
    "    img = img.point(lambda x: 0 if x < 140 else 255)\n",
    "    return pytesseract.image_to_string(img).replace(\"\\n\", \" \")"
   ]
  },
  {
   "cell_type": "code",
   "execution_count": 40,
   "metadata": {
    "collapsed": false,
    "pycharm": {
     "name": "#%%\n"
    }
   },
   "outputs": [],
   "source": [
    "def analyse_text(text: str) -> List:\n",
    "    blob = TextBlob(text)\n",
    "    lang_code = detect(text)\n",
    "    language = languages.get(alpha2=lang_code).name\n",
    "    polarity, subjectivity = \"\", \"\"\n",
    "    if language == \"English\":\n",
    "        polarity = blob.polarity\n",
    "        subjectivity= blob.subjectivity\n",
    "    return [text, language, polarity, subjectivity, lang_code]"
   ]
  },
  {
   "cell_type": "code",
   "execution_count": 5,
   "metadata": {
    "collapsed": false,
    "pycharm": {
     "name": "#%%\n"
    }
   },
   "outputs": [],
   "source": [
    "def analyse_all_urls(image_url : List[str], dataframe : pd.DataFrame) -> None:\n",
    "    for url in image_url:\n",
    "        img = requests.get(url, stream=True, headers=headers)\n",
    "        if img.status_code == 200:\n",
    "            row = [url] + analyse_text(get_text(Image.open(img.raw)))\n",
    "            dataframe.loc[len(dataframe)] = row\n",
    "        else:\n",
    "            print(\"Error\" + img.status_code + \"\\n\" + img.text)\n",
    "        time.sleep(0.5)"
   ]
  },
  {
   "cell_type": "code",
   "execution_count": 52,
   "metadata": {
    "collapsed": false,
    "pycharm": {
     "name": "#%%\n"
    }
   },
   "outputs": [
    {
     "data": {
      "text/html": [
       "<div>\n",
       "<style scoped>\n",
       "    .dataframe tbody tr th:only-of-type {\n",
       "        vertical-align: middle;\n",
       "    }\n",
       "\n",
       "    .dataframe tbody tr th {\n",
       "        vertical-align: top;\n",
       "    }\n",
       "\n",
       "    .dataframe thead th {\n",
       "        text-align: right;\n",
       "    }\n",
       "</style>\n",
       "<table border=\"1\" class=\"dataframe\">\n",
       "  <thead>\n",
       "    <tr style=\"text-align: right;\">\n",
       "      <th></th>\n",
       "      <th>Image URL</th>\n",
       "      <th>Raw Text</th>\n",
       "      <th>Language</th>\n",
       "      <th>Polarity</th>\n",
       "      <th>Subjectivity</th>\n",
       "      <th>Lang Code</th>\n",
       "    </tr>\n",
       "  </thead>\n",
       "  <tbody>\n",
       "    <tr>\n",
       "      <th>0</th>\n",
       "      <td>0.png</td>\n",
       "      <td>ethan_cummiskey ™2« .o°: the gars</td>\n",
       "      <td>English</td>\n",
       "      <td>0.0</td>\n",
       "      <td>0.0</td>\n",
       "      <td>en</td>\n",
       "    </tr>\n",
       "    <tr>\n",
       "      <th>1</th>\n",
       "      <td>2.png</td>\n",
       "      <td>Feedback de dentincia  Devido a relatos recent...</td>\n",
       "      <td>Portuguese</td>\n",
       "      <td></td>\n",
       "      <td></td>\n",
       "      <td>pt</td>\n",
       "    </tr>\n",
       "    <tr>\n",
       "      <th>2</th>\n",
       "      <td>3.jpg</td>\n",
       "      <td>- % |NORTH SIDE BLOODS| = -t/Reme...</td>\n",
       "      <td>English</td>\n",
       "      <td>0.0</td>\n",
       "      <td>0.0</td>\n",
       "      <td>en</td>\n",
       "    </tr>\n",
       "    <tr>\n",
       "      <th>3</th>\n",
       "      <td>4.jpg</td>\n",
       "      <td>THUNDER</td>\n",
       "      <td>English</td>\n",
       "      <td>0.0</td>\n",
       "      <td>0.0</td>\n",
       "      <td>en</td>\n",
       "    </tr>\n",
       "    <tr>\n",
       "      <th>4</th>\n",
       "      <td>5.png</td>\n",
       "      <td>a Your Secret Friend would love this Baby's...</td>\n",
       "      <td>English</td>\n",
       "      <td>0.075</td>\n",
       "      <td>0.433333</td>\n",
       "      <td>en</td>\n",
       "    </tr>\n",
       "  </tbody>\n",
       "</table>\n",
       "</div>"
      ],
      "text/plain": [
       "  Image URL                                           Raw Text    Language  \\\n",
       "0     0.png              ethan_cummiskey ™2« .o°: the gars         English   \n",
       "1     2.png  Feedback de dentincia  Devido a relatos recent...  Portuguese   \n",
       "2     3.jpg               - % |NORTH SIDE BLOODS| = -t/Reme...     English   \n",
       "3     4.jpg                                        THUNDER         English   \n",
       "4     5.png     a Your Secret Friend would love this Baby's...     English   \n",
       "\n",
       "  Polarity Subjectivity Lang Code  \n",
       "0      0.0          0.0        en  \n",
       "1                              pt  \n",
       "2      0.0          0.0        en  \n",
       "3      0.0          0.0        en  \n",
       "4    0.075     0.433333        en  "
      ]
     },
     "execution_count": 52,
     "metadata": {},
     "output_type": "execute_result"
    }
   ],
   "source": [
    "def test_method(image_url : List[str], dataframe : pd.DataFrame) -> None:\n",
    "    for url in image_url:\n",
    "        row = [url] + analyse_text(get_text(Image.open(os.path.join(\"./Images\",url))))\n",
    "        dataframe.loc[len(dataframe)] = row\n",
    "        time.sleep(0.5)\n",
    "\n",
    "test_urls = next(os.walk('./Images'))[2]\n",
    "test_df = deepcopy(image_data_df)\n",
    "test_method(test_urls, test_df)\n",
    "test_df"
   ]
  },
  {
   "cell_type": "code",
   "execution_count": 57,
   "metadata": {
    "collapsed": false,
    "pycharm": {
     "name": "#%%\n"
    }
   },
   "outputs": [],
   "source": [
    "def save_dataframe(filename : str, dataframe : pd.DataFrame) -> None:\n",
    "    dataframe.to_csv(filename)\n",
    "    print(\"Data Saved to \" + filename)"
   ]
  }
 ],
 "metadata": {
  "kernelspec": {
   "display_name": "Python 3",
   "language": "python",
   "name": "python3"
  },
  "language_info": {
   "codemirror_mode": {
    "name": "ipython",
    "version": 2
   },
   "file_extension": ".py",
   "mimetype": "text/x-python",
   "name": "python",
   "nbconvert_exporter": "python",
   "pygments_lexer": "ipython2",
   "version": "2.7.6"
  }
 },
 "nbformat": 4,
 "nbformat_minor": 0
}
